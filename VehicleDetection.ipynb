{
 "cells": [
  {
   "cell_type": "code",
   "execution_count": 144,
   "metadata": {
    "collapsed": true,
    "deletable": true,
    "editable": true
   },
   "outputs": [],
   "source": [
    "\n",
    "import matplotlib.image as mpimg\n",
    "import matplotlib.pyplot as plt\n",
    "import numpy as np\n",
    "import cv2\n",
    "import glob\n",
    "from skimage.feature import hog\n",
    "\n",
    "import sys\n",
    "\n",
    "images = glob.glob('./imgdb/*/*/*.png')\n",
    "cars = []\n",
    "notcars = []\n",
    "\n",
    "for image in images:\n",
    "\n",
    "    if 'non-vehicles' in image:\n",
    "        notcars.append(image)\n",
    "    else:\n",
    "        cars.append(image)"
   ]
  },
  {
   "cell_type": "code",
   "execution_count": 145,
   "metadata": {
    "collapsed": false,
    "deletable": true,
    "editable": true
   },
   "outputs": [
    {
     "data": {
      "text/plain": [
       "8792"
      ]
     },
     "execution_count": 145,
     "metadata": {},
     "output_type": "execute_result"
    }
   ],
   "source": [
    "len(cars)"
   ]
  },
  {
   "cell_type": "code",
   "execution_count": 146,
   "metadata": {
    "collapsed": false,
    "deletable": true,
    "editable": true
   },
   "outputs": [
    {
     "data": {
      "text/plain": [
       "8968"
      ]
     },
     "execution_count": 146,
     "metadata": {},
     "output_type": "execute_result"
    }
   ],
   "source": [
    "len(notcars)"
   ]
  },
  {
   "cell_type": "code",
   "execution_count": 147,
   "metadata": {
    "collapsed": false,
    "deletable": true,
    "editable": true
   },
   "outputs": [],
   "source": [
    "def normalize_img(img):\n",
    "    return (255 * img/np.max(img)).astype(np.uint8)\n",
    "  "
   ]
  },
  {
   "cell_type": "code",
   "execution_count": 148,
   "metadata": {
    "collapsed": false,
    "deletable": true,
    "editable": true
   },
   "outputs": [],
   "source": [
    "# when developing classifier, allow for shortening our dataset\n",
    "# by setting this to smaller values, e.g. 100\n",
    "NUM_CARS = len(cars)\n",
    "NUM_NOTCARS = len(notcars)\n",
    "\n",
    "ORIENT = 4\n",
    "PIX_PER_CELL = 4\n",
    "CELL_PER_BLOCK = 3\n",
    "HOG_CHANNEL = 0\n",
    "\n",
    "def get_hog_features(img, vis=False):\n",
    "    return hog(img,\n",
    "               orientations=ORIENT, \n",
    "               pixels_per_cell=(PIX_PER_CELL, PIX_PER_CELL),\n",
    "               cells_per_block=(CELL_PER_BLOCK, CELL_PER_BLOCK), \n",
    "               transform_sqrt=False,\n",
    "               visualise=vis, \n",
    "               feature_vector=True)\n",
    "  \n",
    "\n",
    "\n",
    "def get_imgs_and_features(source, ind):\n",
    "    # Read in the image\n",
    "    img = mpimg.imread(source[ind])\n",
    "    gray = cv2.cvtColor(img, cv2.COLOR_RGB2GRAY)\n",
    "    features, hog_img = get_hog_features(img[:,:,HOG_CHANNEL],\n",
    "                            vis=True)\n",
    "    \n",
    "    return img, gray, hog_img, features\n",
    "\n",
    "def get_features_only(filename):\n",
    "    img = mpimg.imread(filename)\n",
    "    return get_hog_features(img[:,:,HOG_CHANNEL], vis=False)\n",
    "\n",
    "def make_mosaic():\n",
    "    # get a few images of cars and non-cars, and stack them\n",
    "    for name, source in [('mosaic_cars.png', cars), ('mosaic_noncars.png', notcars)]:\n",
    "        grays = []\n",
    "        hog_imgs = []\n",
    "        for ind in range(20):\n",
    "            img, gray, hog_img, features = get_imgs_and_features(source, ind)\n",
    "            grays.append(normalize_img(gray))\n",
    "            hog_imgs.append(normalize_img(hog_img))\n",
    "\n",
    "        mosaic = np.vstack((np.hstack(grays), np.hstack(hog_imgs)))\n",
    "        cv2.imwrite(name, mosaic)\n",
    "\n",
    "        \n",
    "make_mosaic()\n",
    "    \n"
   ]
  },
  {
   "cell_type": "code",
   "execution_count": 149,
   "metadata": {
    "collapsed": false,
    "deletable": true,
    "editable": true
   },
   "outputs": [],
   "source": [
    "# now build the training and testing sets\n",
    "car_feats = [get_features_only(f) for f in cars[:NUM_CARS]]\n",
    "notcar_feats = [get_features_only(f) for f in notcars[:NUM_NOTCARS]]\n",
    "X = np.vstack((car_feats, notcar_feats))\n"
   ]
  },
  {
   "cell_type": "code",
   "execution_count": 150,
   "metadata": {
    "collapsed": false
   },
   "outputs": [],
   "source": [
    "from sklearn.preprocessing import StandardScaler\n",
    "\n",
    "X = np.vstack((car_feats, notcar_feats)).astype(np.float64)\n",
    "X_scaler = StandardScaler().fit(X)\n",
    "scaled_X = X_scaler.transform(X)\n",
    "\n",
    "y = np.hstack((np.ones(NUM_CARS), np.zeros(NUM_NOTCARS)))"
   ]
  },
  {
   "cell_type": "code",
   "execution_count": 151,
   "metadata": {
    "collapsed": false
   },
   "outputs": [
    {
     "name": "stdout",
     "output_type": "stream",
     "text": [
      "Training accuracy:  1.0\n",
      "Test accuracy:  0.935529279279\n"
     ]
    }
   ],
   "source": [
    "from sklearn.model_selection import train_test_split\n",
    "from sklearn.svm import LinearSVC\n",
    "\n",
    "X_train, X_test, y_train, y_test = train_test_split(\n",
    "     scaled_X, y, test_size=0.2)\n",
    "\n",
    "svc = LinearSVC()\n",
    "svc.fit(X_train, y_train)\n",
    "\n",
    "print(\"Training accuracy: \", svc.score(X_train, y_train))\n",
    "print(\"Test accuracy: \", svc.score(X_test, y_test))"
   ]
  },
  {
   "cell_type": "code",
   "execution_count": 143,
   "metadata": {
    "collapsed": false
   },
   "outputs": [
    {
     "data": {
      "text/plain": [
       "(200, 7056)"
      ]
     },
     "execution_count": 143,
     "metadata": {},
     "output_type": "execute_result"
    }
   ],
   "source": []
  },
  {
   "cell_type": "code",
   "execution_count": null,
   "metadata": {
    "collapsed": true
   },
   "outputs": [],
   "source": []
  }
 ],
 "metadata": {
  "kernelspec": {
   "display_name": "Python 3",
   "language": "python",
   "name": "python3"
  },
  "language_info": {
   "codemirror_mode": {
    "name": "ipython",
    "version": 3
   },
   "file_extension": ".py",
   "mimetype": "text/x-python",
   "name": "python",
   "nbconvert_exporter": "python",
   "pygments_lexer": "ipython3",
   "version": "3.5.2"
  },
  "widgets": {
   "state": {},
   "version": "1.1.2"
  }
 },
 "nbformat": 4,
 "nbformat_minor": 2
}
